{
  "nbformat": 4,
  "nbformat_minor": 0,
  "metadata": {
    "colab": {
      "name": "proje02.ipynb",
      "provenance": [],
      "collapsed_sections": [],
      "authorship_tag": "ABX9TyNFZguumLFE8IbayuFvWYIW",
      "include_colab_link": true
    },
    "kernelspec": {
      "name": "python3",
      "display_name": "Python 3"
    }
  },
  "cells": [
    {
      "cell_type": "markdown",
      "metadata": {
        "id": "view-in-github",
        "colab_type": "text"
      },
      "source": [
        "<a href=\"https://colab.research.google.com/github/ilaydarisoy/hu-bby261-2020/blob/main/proje02.ipynb\" target=\"_parent\"><img src=\"https://colab.research.google.com/assets/colab-badge.svg\" alt=\"Open In Colab\"/></a>"
      ]
    },
    {
      "cell_type": "code",
      "metadata": {
        "id": "RS1YoaG6i7Ex"
      },
      "source": [
        "import tensorflow as tf\n",
        "import numpy as np\n",
        "import logging\n",
        "import matplotlib.pyplot as plt\n",
        "logger = tf.get_logger()\n",
        "logger.setLevel(logging.ERROR)\n",
        "\n",
        "KM  = np.array([50,     70,    83,    63,    150,   45,    98,    42,    84,    51],  dtype=float)\n",
        "MIL = np.array([31.06,  53.49, 51.57, 39.14, 93.20, 27.96, 60.89, 26.09, 52.19, 31.68],  dtype=float)\n",
        "\n",
        "l0 = tf.keras.layers.Dense(units=1, input_shape=[1])\n",
        "\n",
        "model = tf.keras.Sequential([l0])\n",
        "\n",
        "model.compile(loss='mean_squared_error', optimizer=tf.keras.optimizers.Adam(0.1))\n",
        "\n",
        "trainingTimes = int(input(\"trainingTimes: \"))\n",
        "history = model.fit(KM, MIL, epochs=trainingTimes, verbose=False)\n",
        "print(\"Finished training the model\")\n",
        "\n",
        "plt.xlabel('Epoch Number')\n",
        "plt.ylabel(\"Loss Magnitude\")\n",
        "plt.plot(history.history['loss'])\n",
        "\n",
        "tahminEdilecek = float(input(\"Km değer giriniz: \"))\n",
        "\n",
        "print(\"Tahmin edilen: {} mil\".format(model.predict([tahminEdilecek])))\n",
        "print(\"Gerçek değer: {} mil\".format(tahminEdilecek*0.62))\n",
        "\n",
        "print(\"These are the layer variables: {}\".format(l0.get_weights()))\n"
      ],
      "execution_count": null,
      "outputs": []
    }
  ]
}