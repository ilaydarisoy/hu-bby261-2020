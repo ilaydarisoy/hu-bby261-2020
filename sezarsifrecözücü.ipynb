{
  "nbformat": 4,
  "nbformat_minor": 0,
  "metadata": {
    "colab": {
      "name": "sezarsifrecözücü.ipynb",
      "provenance": [],
      "collapsed_sections": [],
      "authorship_tag": "ABX9TyP5U5P7urquNKSKEWj/a4ov",
      "include_colab_link": true
    },
    "kernelspec": {
      "name": "python3",
      "display_name": "Python 3"
    }
  },
  "cells": [
    {
      "cell_type": "markdown",
      "metadata": {
        "id": "view-in-github",
        "colab_type": "text"
      },
      "source": [
        "<a href=\"https://colab.research.google.com/github/ilaydarisoy/hu-bby261-2020/blob/main/sezarsifrec%C3%B6z%C3%BCc%C3%BC.ipynb\" target=\"_parent\"><img src=\"https://colab.research.google.com/assets/colab-badge.svg\" alt=\"Open In Colab\"/></a>"
      ]
    },
    {
      "cell_type": "code",
      "metadata": {
        "colab": {
          "base_uri": "https://localhost:8080/"
        },
        "id": "uiiFYoYaSwkv",
        "outputId": "a6ac02af-946b-440e-a553-d7d69198c2d6"
      },
      "source": [
        "import os\n",
        "def şifrele():\n",
        "    def cls():\n",
        "        if os.name =='nt':\n",
        "            os.system(\"cls\")\n",
        "        else:\n",
        "            os.system(\"clear\")\n",
        "    şifre=\"\"\n",
        "    cls()\n",
        "    metin=input(\"Şifrelemek istediğiniz metni giriniz \")\n",
        "    cls()\n",
        "    while True:\n",
        "        anahtar=int(input(\"Anahtar belirtiniz 1 ile 93(1-93) arasında \"))\n",
        "        if anahtar < 1 or anahtar > 93:\n",
        "            print(\"Tekrar deneyin..\\n Nütfen 1 ile 93 arasında bir sayı giriniz \")\n",
        "            input()\n",
        "            cls()\n",
        "        else:\n",
        "            cls()\n",
        "            break\n",
        "    for harf in metin:\n",
        "        if ord(harf) == 32:\n",
        "            şifre = şifre+chr(ord(harf))\n",
        "        else:\n",
        "            if ord(harf)+anahtar > 126:\n",
        "                şifre = şifre + chr(32+ord(harf)+anahtar - 126)\n",
        "                continue \n",
        "            şifre = şifre+chr(ord(harf)+anahtar)\n",
        "    print(\"İşlem başarılı, şifrelenen metin\",\" ' \",şifre,\" ' \")\n",
        "    input()\n",
        "def şifreçöz():\n",
        "    def cls():\n",
        "        if os.name =='nt':\n",
        "            os.system(\"cls\")\n",
        "        else:\n",
        "            os.system(\"clear\")\n",
        "    şifre=\"\"\n",
        "    cls()\n",
        "    metin=input(\"Çözmek istediğiniz metni giriniz \")\n",
        "    cls()\n",
        "    while True:\n",
        "        anahtar=int(input(\"Anahtar belirtiniz 1 ile 93(1-93) arasında \"))\n",
        "        if anahtar < 1 or anahtar > 93:\n",
        "            cls()\n",
        "            print(\"Tekrar deneyin..\\n Nütfen 1 ile 93 arasında bir sayı giriniz \")\n",
        "            input()\n",
        "            cls()\n",
        "        else:\n",
        "            cls()\n",
        "            break\n",
        "    for harf in metin:\n",
        "        if ord(harf) == 32:\n",
        "            şifre = şifre+chr(ord(harf))\n",
        "        else:\n",
        "            if abs(ord(harf)-anahtar) < 33:  \n",
        "                şifre = şifre + chr(127 - abs(33 - (ord(harf)-anahtar)))\n",
        "                continue \n",
        "            şifre = şifre+chr(abs(ord(harf)-anahtar))\n",
        "    print(\"İşlem başarılı, çözülen metin\",\" ' \",şifre,\" ' \")\n",
        "    input()\n",
        "\n",
        "def main():\n",
        "    def cls():\n",
        "        if os.name =='nt':\n",
        "            os.system(\"cls\")\n",
        "        else:\n",
        "            os.system(\"clear\")\n",
        "    tercih_1=input(\" Metin çözmek için 1'e...\\n Yeni metin şifrelemek için ise 2'ye basınız...\")\n",
        "    if tercih_1==\"1\":\n",
        "        cls()\n",
        "        şifreçöz()\n",
        "        cls()\n",
        "        cya=input(\"Programı yeniden başlatmak için y,\\n kapatmak içinse herhangi bir tuşa basınız \")\n",
        "        if cya==\"y\":\n",
        "            cls()\n",
        "            main()\n",
        "        else:\n",
        "            cls()\n",
        "            exit()\n",
        "    if tercih_1==\"2\":\n",
        "        cls()\n",
        "        şifrele()\n",
        "        cls()\n",
        "        cya=input(\"Programı yeniden başlatmak için y,\\n kapatmak içinse herhangi bir tuşa basınız \")\n",
        "        if cya==\"y\":\n",
        "            cls()\n",
        "            main()\n",
        "        else:\n",
        "            cls()\n",
        "            exit()\n",
        "if __name__=='__main__':\n",
        "    main()"
      ],
      "execution_count": null,
      "outputs": [
        {
          "output_type": "stream",
          "text": [
            "İşlem başarılı, şifrelenen metin  '  nqf~if  ' \n",
            "İşlem başarılı, çözülen metin  '  ilayda  ' \n"
          ],
          "name": "stdout"
        }
      ]
    }
  ]
}