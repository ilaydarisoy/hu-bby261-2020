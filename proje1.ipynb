{
  "nbformat": 4,
  "nbformat_minor": 0,
  "metadata": {
    "colab": {
      "name": "proje1.ipynb",
      "provenance": [],
      "authorship_tag": "ABX9TyOFkii0kmisFwnGcu7MHmdW",
      "include_colab_link": true
    },
    "kernelspec": {
      "name": "python3",
      "display_name": "Python 3"
    }
  },
  "cells": [
    {
      "cell_type": "markdown",
      "metadata": {
        "id": "view-in-github",
        "colab_type": "text"
      },
      "source": [
        "<a href=\"https://colab.research.google.com/github/ilaydarisoy/hu-bby261-2020/blob/main/proje1.ipynb\" target=\"_parent\"><img src=\"https://colab.research.google.com/assets/colab-badge.svg\" alt=\"Open In Colab\"/></a>"
      ]
    },
    {
      "cell_type": "code",
      "metadata": {
        "id": "TRA7rk-jn4ay"
      },
      "source": [
        "import string\n",
        "cümle = \"Şey öyle bir şeydir ki her şeyden ayrı yazılır.\"\n",
        "aranan = input(\"cümlede aramak istediğiniz kelimeyi giriniz: \")\n",
        "cümlesonu=\"\"\n",
        "for kelime in cümle:\n",
        "\tif kelime not in string.punctuation:\n",
        "\t\tcümlesonu += kelime\n",
        "arananvarise=cümlesonu.find(\" \"+aranan+\" \")\n",
        "say=cümlesonu.count(\" \"+aranan+\" \")\n",
        "if arananvarise != -1:\n",
        "\tprint(\"Aradığınız kelime cümle içerisinde var. kullanım sayısı\")\n",
        "\tprint(say)\n",
        "else:\n",
        "\tprint(\"Aradığınız kelime cümle içerisinde yok.\")"
      ],
      "execution_count": null,
      "outputs": []
    }
  ]
}